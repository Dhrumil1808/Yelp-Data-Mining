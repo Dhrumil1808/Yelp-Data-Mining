{
 "cells": [
  {
   "cell_type": "markdown",
   "metadata": {},
   "source": [
    "# Demo to extract documents for a user & business (test + train)"
   ]
  },
  {
   "cell_type": "code",
   "execution_count": 1,
   "metadata": {
    "collapsed": true
   },
   "outputs": [],
   "source": [
    "from util import *"
   ]
  },
  {
   "cell_type": "code",
   "execution_count": 2,
   "metadata": {
    "collapsed": true
   },
   "outputs": [],
   "source": [
    "user_id = ''\n",
    "filename = 'pickle/'\n",
    "user = load_pickle(filename+'userid.pickle')\n",
    "ratings = load_pickle(filename+'rating.pickle')\n",
    "business = load_pickle(filename+'business.pickle')\n",
    "docs_csr = load_pickle(filename+'docs_csr.pickle')\n",
    "unique_users = set(user)\n",
    "unique_business = set(business)"
   ]
  },
  {
   "cell_type": "code",
   "execution_count": 4,
   "metadata": {},
   "outputs": [],
   "source": [
    "with open(\"data/test_UID.dat\", \"r\") as fh:\n",
    "    lines = fh.readlines()\n",
    "\n",
    "with open(\"data/reviews_full.dat\", \"r\") as fh:\n",
    "    original_docs_lines = fh.readlines()  \n",
    "\n",
    "user2 = []\n",
    "ratings2 = []\n",
    "business2 = []\n",
    "doc_full = []\n",
    "#docs_csr2 = []\n",
    "for i in lines:\n",
    "    user2.append(user[int(i)])\n",
    "    ratings2.append(ratings[int(i)])\n",
    "    business2.append(business[int(i)])\n",
    "    doc_full.append(original_docs_lines[int(i)].split('\\t', 4)[3])\n",
    "lines1 = map(int, lines)\n",
    "filename = 'pickle/test/uid/'\n",
    "save_pickle(user2, filename+'userid.pickle')\n",
    "save_pickle(ratings2, filename+'rating.pickle')\n",
    "save_pickle(business2, filename+'business.pickle')\n",
    "save_pickle(docs_csr[lines1], filename+'docs_csr.pickle')\n",
    "save_pickle(doc_full, filename+'docs_full.pickle')"
   ]
  },
  {
   "cell_type": "code",
   "execution_count": 5,
   "metadata": {
    "collapsed": true
   },
   "outputs": [],
   "source": [
    "with open(\"data/train_UID.dat\", \"r\") as fh:\n",
    "    lines = fh.readlines()\n",
    "\n",
    "user2 = []\n",
    "ratings2 = []\n",
    "business2 = []\n",
    "#docs_csr2 = []\n",
    "for i in lines:\n",
    "    user2.append(user[int(i)])\n",
    "    ratings2.append(ratings[int(i)])\n",
    "    business2.append(business[int(i)])\n",
    "lines1 = map(int, lines)\n",
    "filename = 'pickle/train/uid/'\n",
    "save_pickle(user2, filename+'userid.pickle')\n",
    "save_pickle(ratings2, filename+'rating.pickle')\n",
    "save_pickle(business2, filename+'business.pickle')\n",
    "save_pickle(docs_csr[lines1], filename+'docs_csr.pickle')"
   ]
  },
  {
   "cell_type": "code",
   "execution_count": 6,
   "metadata": {
    "collapsed": true
   },
   "outputs": [],
   "source": [
    "with open(\"data/test_BusinessId.dat\", \"r\") as fh:\n",
    "    lines = fh.readlines()\n",
    "\n",
    "user2 = []\n",
    "ratings2 = []\n",
    "business2 = []\n",
    "#docs_csr2 = []\n",
    "for i in lines:\n",
    "    user2.append(user[int(i)])\n",
    "    ratings2.append(ratings[int(i)])\n",
    "    business2.append(business[int(i)])\n",
    "lines1 = map(int, lines)\n",
    "filename = 'pickle/test/businessid/'\n",
    "save_pickle(user2, filename+'userid.pickle')\n",
    "save_pickle(ratings2, filename+'rating.pickle')\n",
    "save_pickle(business2, filename+'business.pickle')\n",
    "save_pickle(docs_csr[lines1], filename+'docs_csr.pickle')"
   ]
  },
  {
   "cell_type": "code",
   "execution_count": 7,
   "metadata": {
    "collapsed": true
   },
   "outputs": [],
   "source": [
    "with open(\"data/train_BusinessId.dat\", \"r\") as fh:\n",
    "    lines = fh.readlines()\n",
    "\n",
    "user2 = []\n",
    "ratings2 = []\n",
    "business2 = []\n",
    "#docs_csr2 = []\n",
    "for i in lines:\n",
    "    user2.append(user[int(i)])\n",
    "    ratings2.append(ratings[int(i)])\n",
    "    business2.append(business[int(i)])\n",
    "lines1 = map(int, lines)\n",
    "filename = 'pickle/train/businessid/'\n",
    "save_pickle(user2, filename+'userid.pickle')\n",
    "save_pickle(ratings2, filename+'rating.pickle')\n",
    "save_pickle(business2, filename+'business.pickle')\n",
    "save_pickle(docs_csr[lines1], filename+'docs_csr.pickle')"
   ]
  },
  {
   "cell_type": "code",
   "execution_count": null,
   "metadata": {
    "collapsed": true
   },
   "outputs": [],
   "source": []
  }
 ],
 "metadata": {
  "kernelspec": {
   "display_name": "Python 2",
   "language": "python",
   "name": "python2"
  },
  "language_info": {
   "codemirror_mode": {
    "name": "ipython",
    "version": 2
   },
   "file_extension": ".py",
   "mimetype": "text/x-python",
   "name": "python",
   "nbconvert_exporter": "python",
   "pygments_lexer": "ipython2",
   "version": "2.7.13"
  }
 },
 "nbformat": 4,
 "nbformat_minor": 2
}
