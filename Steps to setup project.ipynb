{
 "cells": [
  {
   "cell_type": "markdown",
   "metadata": {},
   "source": [
    "# Steps to set up project\n",
    "\n",
    "1. Take git project clone\n",
    "2. cd into the project\n",
    "3. Create a folder data\n",
    "4. Create a folder pickle\n",
    "5. Inside pickle create two folders: 'train' and 'test'\n",
    "6. Inside Both of these train & test folders, create two folders each: 'uid' and 'business'\n",
    "7. Download zip file shared on google drive named "
   ]
  },
  {
   "cell_type": "code",
   "execution_count": null,
   "metadata": {
    "collapsed": true
   },
   "outputs": [],
   "source": []
  }
 ],
 "metadata": {
  "kernelspec": {
   "display_name": "Python 2",
   "language": "python",
   "name": "python2"
  },
  "language_info": {
   "codemirror_mode": {
    "name": "ipython",
    "version": 2
   },
   "file_extension": ".py",
   "mimetype": "text/x-python",
   "name": "python",
   "nbconvert_exporter": "python",
   "pygments_lexer": "ipython2",
   "version": "2.7.13"
  }
 },
 "nbformat": 4,
 "nbformat_minor": 2
}
