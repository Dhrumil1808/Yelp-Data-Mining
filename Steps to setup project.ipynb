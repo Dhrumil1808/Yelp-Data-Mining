{
 "cells": [
  {
   "cell_type": "markdown",
   "metadata": {},
   "source": [
    "# Steps to set up project\n",
    "\n",
    "1. Take git project clone\n",
    "2. cd into the project\n",
    "3. Create a folder data\n",
    "4. Create a folder pickle\n",
    "5. Inside pickle create two folders: 'train' and 'test'\n",
    "6. Inside Both of these train & test folders, create two folders each: 'uid' and 'business'\n",
    "7. Download zip file shared on google drive named data_from_db.zip into data folder.\n",
    "8. Download zip file shared on google drive named pickle_old.zip into pickle folder.\n",
    "9. Run Data_Divide_Test_Training jupyter notebook\n",
    "10. Run portal.py file and your rest service will be up\n"
   ]
  },
  {
   "cell_type": "code",
   "execution_count": null,
   "metadata": {
    "collapsed": true
   },
   "outputs": [],
   "source": []
  }
 ],
 "metadata": {
  "kernelspec": {
   "display_name": "Python 2",
   "language": "python",
   "name": "python2"
  },
  "language_info": {
   "codemirror_mode": {
    "name": "ipython",
    "version": 2
   },
   "file_extension": ".py",
   "mimetype": "text/x-python",
   "name": "python",
   "nbconvert_exporter": "python",
   "pygments_lexer": "ipython2",
   "version": "2.7.13"
  }
 },
 "nbformat": 4,
 "nbformat_minor": 2
}
