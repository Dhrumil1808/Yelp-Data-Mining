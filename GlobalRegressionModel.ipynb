{
 "cells": [
  {
   "cell_type": "code",
   "execution_count": 1,
   "metadata": {
    "collapsed": true
   },
   "outputs": [],
   "source": [
    "from util import *\n",
    "from sklearn.neighbors import KNeighborsRegressor"
   ]
  },
  {
   "cell_type": "code",
   "execution_count": 7,
   "metadata": {
    "collapsed": true
   },
   "outputs": [],
   "source": [
    "filename = 'pickle/train/uid/'\n",
    "user = load_pickle(filename+'userid.pickle')\n",
    "ratings = load_pickle(filename+'rating.pickle')\n",
    "ratings=map(float,ratings)\n",
    "business = load_pickle(filename+'business.pickle')\n",
    "docs_csr = load_pickle(filename+'docs_csr.pickle')\n",
    "filename = 'pickle/test/uid/'\n",
    "test_user = load_pickle(filename+'userid.pickle')\n",
    "test_ratings = load_pickle(filename+'rating.pickle')\n",
    "test_ratings=map(float,test_ratings)\n",
    "test_business = load_pickle(filename+'business.pickle')\n",
    "test_docs_csr = load_pickle(filename+'docs_csr.pickle')"
   ]
  },
  {
   "cell_type": "code",
   "execution_count": 8,
   "metadata": {
    "collapsed": true
   },
   "outputs": [],
   "source": [
    "def regression_model():\n",
    "    neigh = KNeighborsRegressor(n_neighbors=3)\n",
    "    \n",
    "    neigh.fit(docs_csr, ratings)\n",
    "    return neigh"
   ]
  },
  {
   "cell_type": "code",
   "execution_count": 9,
   "metadata": {
    "collapsed": true
   },
   "outputs": [],
   "source": [
    "def predict_global_rating(reviewId,neigh):\n",
    "    test_review_csr_x=test_docs_csr[reviewId]\n",
    "    predicted = neigh.predict(test_review_csr_x)\n",
    "    print \"actual-->\" +str(test_ratings[reviewId])\n",
    "    print \"predicted-->\" +str(predicted)\n",
    "    return predicted"
   ]
  },
  {
   "cell_type": "code",
   "execution_count": 10,
   "metadata": {
    "collapsed": true
   },
   "outputs": [],
   "source": [
    "def predict_global_rating_All(neigh):\n",
    "    test_review_csr_x=test_docs_csr\n",
    "    predicted = neigh.predict(test_review_csr_x)\n",
    "    return predicted,test_ratings"
   ]
  },
  {
   "cell_type": "code",
   "execution_count": 11,
   "metadata": {},
   "outputs": [
    {
     "name": "stdout",
     "output_type": "stream",
     "text": [
      "actual-->4.0\n",
      "predicted-->[ 2.]\n"
     ]
    },
    {
     "data": {
      "text/plain": [
       "array([ 2.])"
      ]
     },
     "execution_count": 11,
     "metadata": {},
     "output_type": "execute_result"
    }
   ],
   "source": [
    "model= regression_model()\n",
    "predict_global_rating(1,model)"
   ]
  },
  {
   "cell_type": "code",
   "execution_count": 15,
   "metadata": {
    "collapsed": true
   },
   "outputs": [],
   "source": [
    "def performance_test():\n",
    "    model= regression_model()\n",
    "    actual_r=[]\n",
    "    predicted_r=[]\n",
    "    predicted_r,actual_r = predict_global_rating_All(model)"
   ]
  },
  {
   "cell_type": "code",
   "execution_count": null,
   "metadata": {},
   "outputs": [],
   "source": [
    "predicted_r,actual_r=performance_test()"
   ]
  },
  {
   "cell_type": "code",
   "execution_count": null,
   "metadata": {
    "collapsed": true
   },
   "outputs": [],
   "source": []
  }
 ],
 "metadata": {
  "kernelspec": {
   "display_name": "Python 2",
   "language": "python",
   "name": "python2"
  },
  "language_info": {
   "codemirror_mode": {
    "name": "ipython",
    "version": 2
   },
   "file_extension": ".py",
   "mimetype": "text/x-python",
   "name": "python",
   "nbconvert_exporter": "python",
   "pygments_lexer": "ipython2",
   "version": "2.7.13"
  }
 },
 "nbformat": 4,
 "nbformat_minor": 2
}
