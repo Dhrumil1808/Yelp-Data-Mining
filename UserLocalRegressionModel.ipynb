{
 "cells": [
  {
   "cell_type": "code",
   "execution_count": 90,
   "metadata": {},
   "outputs": [],
   "source": [
    "from util import *\n",
    "from sklearn.neighbors import KNeighborsRegressor\n"
   ]
  },
  {
   "cell_type": "code",
   "execution_count": 52,
   "metadata": {},
   "outputs": [],
   "source": [
    "filename = 'pickle/train/uid/'\n",
    "user = load_pickle(filename+'userid.pickle')\n",
    "ratings = load_pickle(filename+'rating.pickle')\n",
    "business = load_pickle(filename+'business.pickle')\n",
    "docs_csr = load_pickle(filename+'docs_csr.pickle')\n",
    "filename = 'pickle/test/uid/'\n",
    "test_user = load_pickle(filename+'userid.pickle')\n",
    "test_ratings = load_pickle(filename+'rating.pickle')\n",
    "test_business = load_pickle(filename+'business.pickle')\n",
    "test_docs_csr = load_pickle(filename+'docs_csr.pickle')"
   ]
  },
  {
   "cell_type": "code",
   "execution_count": 53,
   "metadata": {},
   "outputs": [],
   "source": [
    "def getUserData(userid,userData,ratingData):    \n",
    "    reviewrows =[]\n",
    "    reviewratings=[]\n",
    "    counter=0\n",
    "    for u in userData:\n",
    "        if(u==userid):\n",
    "            reviewrows.append(counter) \n",
    "            reviewratings.append(float(ratingData[counter]))\n",
    "        counter=counter+1\n",
    "        \n",
    "    return reviewrows,reviewratings"
   ]
  },
  {
   "cell_type": "code",
   "execution_count": 87,
   "metadata": {},
   "outputs": [],
   "source": [
    "def predict_user_local_rating(userid,reviewId):\n",
    "    reviewrows,reviewratings = getUserData(userid,user,ratings)\n",
    "    review_csr_x=docs_csr[reviewrows]\n",
    "    neigh = KNeighborsRegressor(n_neighbors=3)\n",
    "    neigh.fit(review_csr_x, reviewratings) \n",
    "    \n",
    "    \n",
    "    test_reviewrows,test_reviewratings = getUserData(userid,test_user,test_ratings)\n",
    "    print test_reviewratings[reviewId]\n",
    "    test_review_csr_x=test_docs_csr[reviewId]\n",
    "    predicted = neigh.predict(test_review_csr_x)\n",
    "    \n",
    "    return predicted\n",
    "    "
   ]
  },
  {
   "cell_type": "code",
   "execution_count": 88,
   "metadata": {},
   "outputs": [
    {
     "name": "stdout",
     "output_type": "stream",
     "text": [
      "4.0\n"
     ]
    }
   ],
   "source": [
    "userid=user[100]\n",
    "predicted = predict_user_local_rating(userid,18)"
   ]
  },
  {
   "cell_type": "code",
   "execution_count": 89,
   "metadata": {},
   "outputs": [
    {
     "name": "stdout",
     "output_type": "stream",
     "text": [
      "[ 3.33333333]\n"
     ]
    }
   ],
   "source": [
    "print predicted"
   ]
  },
  {
   "cell_type": "code",
   "execution_count": null,
   "metadata": {},
   "outputs": [],
   "source": []
  },
  {
   "cell_type": "code",
   "execution_count": null,
   "metadata": {
    "collapsed": true
   },
   "outputs": [],
   "source": []
  }
 ],
 "metadata": {
  "kernelspec": {
   "display_name": "Python 2",
   "language": "python",
   "name": "python2"
  },
  "language_info": {
   "codemirror_mode": {
    "name": "ipython",
    "version": 2
   },
   "file_extension": ".py",
   "mimetype": "text/x-python",
   "name": "python",
   "nbconvert_exporter": "python",
   "pygments_lexer": "ipython2",
   "version": "2.7.13"
  }
 },
 "nbformat": 4,
 "nbformat_minor": 2
}
