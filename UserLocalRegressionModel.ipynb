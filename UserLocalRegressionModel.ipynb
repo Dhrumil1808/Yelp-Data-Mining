{
 "cells": [
  {
   "cell_type": "code",
<<<<<<< HEAD
   "execution_count": 21,
=======
   "execution_count": 1,
>>>>>>> 80859e318832a13ffa1c7e089eec68b90a438130
   "metadata": {
    "collapsed": true
   },
   "outputs": [],
   "source": [
    "from util import *\n",
    "from sklearn.neighbors import KNeighborsRegressor\n"
   ]
  },
  {
   "cell_type": "code",
<<<<<<< HEAD
   "execution_count": 23,
=======
   "execution_count": 2,
>>>>>>> 80859e318832a13ffa1c7e089eec68b90a438130
   "metadata": {
    "collapsed": true
   },
   "outputs": [],
   "source": [
    "filename = 'pickle/train/uid/'\n",
    "user = load_pickle(filename+'userid.pickle')\n",
    "ratings = load_pickle(filename+'rating.pickle')\n",
    "business = load_pickle(filename+'business.pickle')\n",
    "docs_csr = load_pickle(filename+'docs_csr.pickle')\n",
    "filename = 'pickle/test/uid/'\n",
    "test_user = load_pickle(filename+'userid.pickle')\n",
    "test_ratings = load_pickle(filename+'rating.pickle')\n",
    "test_business = load_pickle(filename+'business.pickle')\n",
    "test_docs_csr = load_pickle(filename+'docs_csr.pickle')\n",
    "all_users= set(user)\n"
   ]
  },
  {
   "cell_type": "code",
<<<<<<< HEAD
   "execution_count": 24,
=======
   "execution_count": 3,
>>>>>>> 80859e318832a13ffa1c7e089eec68b90a438130
   "metadata": {
    "collapsed": true
   },
   "outputs": [],
   "source": [
    "def getUserData(userid,userData,ratingData):    \n",
    "    reviewrows =[]\n",
    "    reviewratings=[]\n",
    "    counter=0\n",
    "    for u in userData:\n",
    "        if(u==userid):\n",
    "            reviewrows.append(counter) \n",
    "            reviewratings.append(float(ratingData[counter]))\n",
    "        counter=counter+1\n",
    "        \n",
    "    return reviewrows,reviewratings"
   ]
  },
  {
   "cell_type": "code",
<<<<<<< HEAD
   "execution_count": 25,
=======
   "execution_count": 4,
>>>>>>> 80859e318832a13ffa1c7e089eec68b90a438130
   "metadata": {
    "collapsed": true
   },
   "outputs": [],
   "source": [
    "def predict_user_local_rating(userid,reviewId):\n",
    "    reviewrows,reviewratings = getUserData(userid,user,ratings)\n",
    "    review_csr_x=docs_csr[reviewrows]\n",
    "    neigh = KNeighborsRegressor(n_neighbors=3)\n",
    "    neigh.fit(review_csr_x, reviewratings) \n",
    "    \n",
    "    \n",
    "    test_reviewrows,test_reviewratings = getUserData(userid,test_user,test_ratings)\n",
    "    print test_reviewratings[reviewId]\n",
    "    test_review_csr_x=test_docs_csr[reviewId]\n",
    "    predicted = neigh.predict(test_review_csr_x)\n",
    "    \n",
    "    return predicted\n",
    "    "
   ]
  },
  {
   "cell_type": "code",
<<<<<<< HEAD
   "execution_count": 42,
=======
   "execution_count": 5,
>>>>>>> 80859e318832a13ffa1c7e089eec68b90a438130
   "metadata": {},
   "outputs": [
    {
     "ename": "IndexError",
     "evalue": "list index out of range",
     "output_type": "error",
     "traceback": [
      "\u001b[0;31m---------------------------------------------------------------------------\u001b[0m",
      "\u001b[0;31mIndexError\u001b[0m                                Traceback (most recent call last)",
      "\u001b[0;32m<ipython-input-42-6ff984c0b6cc>\u001b[0m in \u001b[0;36m<module>\u001b[0;34m()\u001b[0m\n\u001b[1;32m      1\u001b[0m \u001b[0muserid\u001b[0m\u001b[0;34m=\u001b[0m\u001b[0;34m\"HXVx8dG5KxQZog6kdDraWg\"\u001b[0m\u001b[0;34m\u001b[0m\u001b[0m\n\u001b[0;32m----> 2\u001b[0;31m \u001b[0mpredicted\u001b[0m \u001b[0;34m=\u001b[0m \u001b[0mpredict_user_local_rating\u001b[0m\u001b[0;34m(\u001b[0m\u001b[0muserid\u001b[0m\u001b[0;34m,\u001b[0m\u001b[0;36m18\u001b[0m\u001b[0;34m)\u001b[0m\u001b[0;34m\u001b[0m\u001b[0m\n\u001b[0m",
      "\u001b[0;32m<ipython-input-25-41e060b1a10b>\u001b[0m in \u001b[0;36mpredict_user_local_rating\u001b[0;34m(userid, reviewId)\u001b[0m\n\u001b[1;32m      7\u001b[0m \u001b[0;34m\u001b[0m\u001b[0m\n\u001b[1;32m      8\u001b[0m     \u001b[0mtest_reviewrows\u001b[0m\u001b[0;34m,\u001b[0m\u001b[0mtest_reviewratings\u001b[0m \u001b[0;34m=\u001b[0m \u001b[0mgetUserData\u001b[0m\u001b[0;34m(\u001b[0m\u001b[0muserid\u001b[0m\u001b[0;34m,\u001b[0m\u001b[0mtest_user\u001b[0m\u001b[0;34m,\u001b[0m\u001b[0mtest_ratings\u001b[0m\u001b[0;34m)\u001b[0m\u001b[0;34m\u001b[0m\u001b[0m\n\u001b[0;32m----> 9\u001b[0;31m     \u001b[0;32mprint\u001b[0m \u001b[0mtest_reviewratings\u001b[0m\u001b[0;34m[\u001b[0m\u001b[0mreviewId\u001b[0m\u001b[0;34m]\u001b[0m\u001b[0;34m\u001b[0m\u001b[0m\n\u001b[0m\u001b[1;32m     10\u001b[0m     \u001b[0mtest_review_csr_x\u001b[0m\u001b[0;34m=\u001b[0m\u001b[0mtest_docs_csr\u001b[0m\u001b[0;34m[\u001b[0m\u001b[0mreviewId\u001b[0m\u001b[0;34m]\u001b[0m\u001b[0;34m\u001b[0m\u001b[0m\n\u001b[1;32m     11\u001b[0m     \u001b[0mpredicted\u001b[0m \u001b[0;34m=\u001b[0m \u001b[0mneigh\u001b[0m\u001b[0;34m.\u001b[0m\u001b[0mpredict\u001b[0m\u001b[0;34m(\u001b[0m\u001b[0mtest_review_csr_x\u001b[0m\u001b[0;34m)\u001b[0m\u001b[0;34m\u001b[0m\u001b[0m\n",
      "\u001b[0;31mIndexError\u001b[0m: list index out of range"
     ]
    }
   ],
   "source": [
    "userid=\"HXVx8dG5KxQZog6kdDraWg\"\n",
    "predicted = predict_user_local_rating(userid,18)"
   ]
  },
  {
   "cell_type": "code",
<<<<<<< HEAD
   "execution_count": 27,
=======
   "execution_count": 7,
>>>>>>> 80859e318832a13ffa1c7e089eec68b90a438130
   "metadata": {},
   "outputs": [
    {
     "name": "stdout",
     "output_type": "stream",
     "text": [
      "4.33333333333\n"
     ]
    }
   ],
   "source": [
    "print predicted[0]"
   ]
  },
  {
   "cell_type": "code",
<<<<<<< HEAD
   "execution_count": 28,
   "metadata": {
    "collapsed": true
   },
   "outputs": [],
   "source": [
    "def predict_user_local_rating_all(userid):\n",
    "    reviewrows,reviewratings = getUserData(userid,user,ratings)\n",
    "    review_csr_x=docs_csr[reviewrows]\n",
    "    neigh = KNeighborsRegressor(n_neighbors=3)\n",
    "    neigh.fit(review_csr_x, reviewratings) \n",
    "    predicted=[]\n",
    "    \n",
    "    test_reviewrows,test_reviewratings = getUserData(userid,test_user,test_ratings)\n",
    "    \n",
    "    if(len(test_reviewrows)):\n",
    "        test_review_csr_x=test_docs_csr[test_reviewrows]\n",
    "        predicted = neigh.predict(test_review_csr_x)\n",
    "    \n",
    "    return predicted,test_reviewratings"
   ]
  },
  {
   "cell_type": "code",
   "execution_count": 45,
   "metadata": {
    "collapsed": true
   },
   "outputs": [],
   "source": [
    "def performance_test():\n",
    "    actual_r=[]\n",
    "    predicted_r=[]\n",
    "    i=0\n",
    "    for eu in all_test_users:\n",
    "        #print eu\n",
    "        predicted,test_reviewratings = predict_user_local_rating_all(eu)\n",
    "        actual_r.extend(test_reviewratings)\n",
    "        predicted_r.extend(predicted)\n",
    "        i=i+1\n",
    "        \n",
    "        if(i and i%100==0):\n",
    "            print \"Predictions for \"+str(i)+\" users Done!\""
   ]
  },
  {
   "cell_type": "code",
   "execution_count": 43,
   "metadata": {},
=======
   "execution_count": null,
   "metadata": {
    "collapsed": true
   },
>>>>>>> 80859e318832a13ffa1c7e089eec68b90a438130
   "outputs": [],
   "source": [
    "len(all_users)\n",
    "all_test_users=set(test_user)\n"
   ]
  },
  {
   "cell_type": "code",
   "execution_count": null,
   "metadata": {},
   "outputs": [
    {
     "name": "stdout",
     "output_type": "stream",
     "text": [
      "Predictions for 100 users Done!\n",
      "Predictions for 200 users Done!\n",
      "Predictions for 300 users Done!\n",
      "Predictions for 400 users Done!\n",
      "Predictions for 500 users Done!\n",
      "Predictions for 600 users Done!\n",
      "Predictions for 700 users Done!\n",
      "Predictions for 800 users Done!\n",
      "Predictions for 900 users Done!\n",
      "Predictions for 1000 users Done!\n",
      "Predictions for 1100 users Done!\n",
      "Predictions for 1200 users Done!\n",
      "Predictions for 1300 users Done!\n",
      "Predictions for 1400 users Done!\n",
      "Predictions for 1500 users Done!\n",
      "Predictions for 1600 users Done!\n",
      "Predictions for 1700 users Done!\n",
      "Predictions for 1800 users Done!\n",
      "Predictions for 1900 users Done!\n",
      "Predictions for 2000 users Done!\n",
      "Predictions for 2100 users Done!\n",
      "Predictions for 2200 users Done!\n",
      "Predictions for 2300 users Done!\n",
      "Predictions for 2400 users Done!\n",
      "Predictions for 2500 users Done!\n",
      "Predictions for 2600 users Done!\n"
     ]
    }
   ],
   "source": [
    "\n",
    "performance_test()"
   ]
  },
  {
   "cell_type": "code",
   "execution_count": null,
   "metadata": {
    "collapsed": true
   },
   "outputs": [],
   "source": []
  }
 ],
 "metadata": {
  "kernelspec": {
   "display_name": "Python 2",
   "language": "python",
   "name": "python2"
  },
  "language_info": {
   "codemirror_mode": {
    "name": "ipython",
    "version": 2
   },
   "file_extension": ".py",
   "mimetype": "text/x-python",
   "name": "python",
   "nbconvert_exporter": "python",
   "pygments_lexer": "ipython2",
   "version": "2.7.13"
  }
 },
 "nbformat": 4,
 "nbformat_minor": 2
}
